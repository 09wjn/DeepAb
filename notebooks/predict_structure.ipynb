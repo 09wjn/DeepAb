{
 "cells": [
  {
   "cell_type": "code",
   "execution_count": null,
   "metadata": {},
   "outputs": [],
   "source": [
    "! git clone http://github.com/rosettacommons/deepab\n",
    "%pip install -r deepab/requirements.txt"
   ]
  },
  {
   "cell_type": "code",
   "execution_count": null,
   "metadata": {},
   "outputs": [],
   "source": [
    "import os\n",
    "import sys\n",
    "from glob import glob\n",
    "from tqdm.contrib.concurrent import process_map\n",
    "import torch\n",
    "import numpy as np\n",
    "\n",
    "sys.path.insert(0, \"deepab\")\n",
    "\n",
    "OUT_DIR = \"predict_structure\"\n",
    "os.makedirs(OUT_DIR, exist_ok=True)\n",
    "\n",
    "# Notebook setup\n",
    "import sys\n",
    "if 'google.colab' in sys.modules:\n",
    "  !pip install pyrosettacolabsetup\n",
    "  import pyrosettacolabsetup\n",
    "  if not os.path.exists(\"/content/google_drive/MyDrive/PyRosetta/colab.bin\"):\n",
    "    pyrosettacolabsetup.install_pyrosetta()\n",
    "  else:\n",
    "    pyrosettacolabsetup.mount_pyrosetta_install()\n",
    "\n",
    "import pyrosetta\n",
    "pyrosetta.init(\n",
    "    \"-mute all -detect_disulf true -detect_disulf_tolerance 1.5 -check_cdr_chainbreaks false\"\n",
    ")\n",
    "\n",
    "from deepab.predict import load_model, ModelEnsemble, get_cst_defs, build_structure, renumber_pdb\n",
    "from deepab.annotate_attention import annotate_structure"
   ]
  },
  {
   "cell_type": "code",
   "execution_count": null,
   "metadata": {},
   "outputs": [],
   "source": [
    "! wget https://data.graylab.jhu.edu/ensemble_abresnet_v1.tar.gz\n",
    "! tar -xf ensemble_abresnet_v1.tar.gz\n",
    "\n",
    "\n",
    "model_files = [\n",
    "    \"ensemble_abresnet/rs0.pt\",\n",
    "    \"ensemble_abresnet/rs1.pt\",\n",
    "    \"ensemble_abresnet/rs2.pt\",\n",
    "    \"ensemble_abresnet/rs3.pt\",\n",
    "    \"ensemble_abresnet/rs4.pt\",\n",
    "]\n",
    "\n",
    "device_type = 'cuda' if torch.cuda.is_available() else 'cpu'\n",
    "device = torch.device(device_type)\n",
    "model = ModelEnsemble(model_files=model_files,\n",
    "                          load_model=load_model,\n",
    "                          eval_mode=True,\n",
    "                          device=device)"
   ]
  },
  {
   "cell_type": "code",
   "execution_count": null,
   "metadata": {},
   "outputs": [],
   "source": [
    "name = \"demo_target\"\n",
    "\n",
    "heavy_sequence = 'EVQLVQSGPEVKKPGTSVKVSCKASGFTFMSSAVQWVRQARGQRLEWIGWIVIGSGNTNYAQKFQERVTITRDMSTSTAYMELSSLRSEDTAVYYCAAPYCSSISCNDGFDIWGQGTMVTVS' #@param {type:\"string\"}\n",
    "light_sequence = 'EIVLTQSPGTLSLSPGERATLSCRASQSVSSSYLAWYQQKPGQAPRLLIYGASSRATGIPDRFSGSGSGTDFTLTISRLEPEDFAVYYCQHYGSSRGWTFGQGTKVEIKRT' #@param {type:\"string\"}\n",
    "\n",
    "decoys = 5 #@param {type:\"integer\"}\n",
    "single_chain = len(heavy_sequence) == 0 or len(light_sequence) == 0\n",
    "renumber = True #@param {type:\"boolean\"}"
   ]
  },
  {
   "cell_type": "code",
   "execution_count": 12,
   "metadata": {},
   "outputs": [],
   "source": [
    "pred_dir = os.path.join(OUT_DIR, name)\n",
    "os.makedirs(pred_dir, exist_ok=True)\n",
    "\n",
    "fasta_file = os.path.join(pred_dir, f\"{name}.fasta\")\n",
    "with open(fasta_file, \"w\") as f:\n",
    "    f.write(\">:H\\n{}\\n>:L\\n{}\\n\".format(heavy_sequence, heavy_sequence))\n",
    "cst_defs = get_cst_defs(model, fasta_file, device=device)\n",
    "\n",
    "if decoys > 0:\n",
    "    pred_pdb = build_structure(model,\n",
    "                                fasta_file,\n",
    "                                cst_defs,\n",
    "                                pred_dir,\n",
    "                                target=name,\n",
    "                                num_decoys=decoys,\n",
    "                                num_procs=decoys,\n",
    "                                single_chain=single_chain,\n",
    "                                device=device)\n",
    "\n",
    "    if renumber:\n",
    "        renumber_pdb(pred_pdb, pred_pdb)"
   ]
  },
  {
   "cell_type": "code",
   "execution_count": null,
   "metadata": {},
   "outputs": [],
   "source": [
    "cdr_loop = 'h3' #@param {type:\"string\"}\n",
    "cdr_i = cdr_indices(pdb_file, cdr_loop)\n",
    "\n",
    "attn_pdb_file = pdb_file.replace(\".pdb\", \".attn.pdb\")\n",
    "os.system(f\"cp {pred_pdb} {attn_pdb_file}\")\n",
    "\n",
    "annotate_structure(model, fasta_file, attn_pdb_file, attn_pdb_file, \"CA\")"
   ]
  }
 ],
 "metadata": {
  "interpreter": {
   "hash": "782c5e8831d9fdd1f686474d0afe590ac2fe73cb65eedbd6b51c5a6ccffb32a5"
  },
  "kernelspec": {
   "display_name": "Python 3.7.13 ('venv': venv)",
   "language": "python",
   "name": "python3"
  },
  "language_info": {
   "codemirror_mode": {
    "name": "ipython",
    "version": 3
   },
   "file_extension": ".py",
   "mimetype": "text/x-python",
   "name": "python",
   "nbconvert_exporter": "python",
   "pygments_lexer": "ipython3",
   "version": "3.7.13"
  },
  "orig_nbformat": 4
 },
 "nbformat": 4,
 "nbformat_minor": 2
}
